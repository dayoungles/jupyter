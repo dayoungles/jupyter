{
 "cells": [
  {
   "cell_type": "markdown",
   "metadata": {},
   "source": [
    "# Secrets manager"
   ]
  },
  {
   "cell_type": "markdown",
   "metadata": {},
   "source": [
    "## GET: Secret value"
   ]
  },
  {
   "cell_type": "code",
   "execution_count": 4,
   "metadata": {
    "collapsed": true,
    "jupyter": {
     "outputs_hidden": true
    }
   },
   "outputs": [
    {
     "name": "stdout",
     "output_type": "stream",
     "text": [
      "{\n",
      "    \"ARN\": \"arn:aws:secretsmanager:ap-northeast-2:197159823036:secret:/mysql/demo-Se5NYb\",\n",
      "    \"Name\": \"/mysql/demo\",\n",
      "    \"VersionId\": \"f70a7dd3-98d9-4f4e-b6da-7103f183aa22\",\n",
      "    \"SecretString\": \"{\\\"host\\\":\\\"ProdServer-01.databases.example.com\\\",\\\"port\\\" : \\\"8888\\\",\\\"username\\\":\\\"administrator\\\",\\\"password\\\":\\\"My-P@ssw0rd!F0r+Th3_Acc0unt\\\",\\\"dbname\\\":\\\"MyDatabase\\\",\\\"engine\\\":\\\"mysql\\\"}\",\n",
      "    \"VersionStages\": [\n",
      "        \"AWSCURRENT\"\n",
      "    ],\n",
      "    \"CreatedDate\": \"2020-12-07T11:08:46.600000+09:00\"\n",
      "}\n"
     ]
    }
   ],
   "source": [
    "!aws secretsmanager get-secret-value --secret-id /mysql/demo --region ap-northeast-2"
   ]
  },
  {
   "cell_type": "markdown",
   "metadata": {},
   "source": [
    "## UPDATE: "
   ]
  },
  {
   "cell_type": "code",
   "execution_count": 44,
   "metadata": {
    "collapsed": true,
    "jupyter": {
     "outputs_hidden": true
    }
   },
   "outputs": [
    {
     "name": "stdout",
     "output_type": "stream",
     "text": [
      "{\n",
      "    \"ARN\": \"arn:aws:secretsmanager:ap-northeast-2:197159823036:secret:/mysql/demo-Se5NYb\",\n",
      "    \"Name\": \"/mysql/demo\",\n",
      "    \"VersionId\": \"f70a7dd3-98d9-4f4e-b6da-7103f183aa22\"\n",
      "}\n"
     ]
    }
   ],
   "source": [
    "!aws secretsmanager update-secret --secret-id /mysql/demo --secret-string '{\"host\":\"ProdServer-01.databases.example.com\",\"port\" : \"8888\",\"username\":\"administrator\",\"password\":\"My-P@ssw0rd!F0r+Th3_Acc0unt\",\"dbname\":\"MyDatabase\",\"engine\":\"mysql\"}'"
   ]
  },
  {
   "cell_type": "markdown",
   "metadata": {},
   "source": [
    "## LIST by Version"
   ]
  },
  {
   "cell_type": "code",
   "execution_count": 36,
   "metadata": {
    "collapsed": true,
    "jupyter": {
     "outputs_hidden": true
    }
   },
   "outputs": [
    {
     "name": "stdout",
     "output_type": "stream",
     "text": [
      "{\n",
      "    \"Versions\": [\n",
      "        {\n",
      "            \"VersionId\": \"043f4ec6-7a3f-4dd3-bf2a-f78f87a46b13\",\n",
      "            \"VersionStages\": [\n",
      "                \"AWSCURRENT\"\n",
      "            ],\n",
      "            \"LastAccessedDate\": \"2020-12-07T09:00:00+09:00\",\n",
      "            \"CreatedDate\": \"2020-12-07T10:24:47.663000+09:00\"\n",
      "        },\n",
      "        {\n",
      "            \"VersionId\": \"35cdfc05-9dfa-4225-8586-6c7d5da25d8d\",\n",
      "            \"VersionStages\": [\n",
      "                \"AWSPREVIOUS\"\n",
      "            ],\n",
      "            \"LastAccessedDate\": \"2020-12-07T09:00:00+09:00\",\n",
      "            \"CreatedDate\": \"2020-12-04T17:30:20.019000+09:00\"\n",
      "        }\n",
      "    ],\n",
      "    \"ARN\": \"arn:aws:secretsmanager:ap-northeast-2:197159823036:secret:/mysql/demo-Se5NYb\",\n",
      "    \"Name\": \"/mysql/demo\"\n",
      "}\n"
     ]
    }
   ],
   "source": [
    "!aws secretsmanager list-secret-version-ids --secret-id \"/mysql/demo\" "
   ]
  },
  {
   "cell_type": "markdown",
   "metadata": {},
   "source": [
    "## GET by version id"
   ]
  },
  {
   "cell_type": "code",
   "execution_count": 41,
   "metadata": {
    "collapsed": true,
    "jupyter": {
     "outputs_hidden": true
    }
   },
   "outputs": [
    {
     "name": "stdout",
     "output_type": "stream",
     "text": [
      "{\n",
      "    \"ARN\": \"arn:aws:secretsmanager:ap-northeast-2:197159823036:secret:/mysql/demo-Se5NYb\",\n",
      "    \"Name\": \"/mysql/demo\",\n",
      "    \"VersionId\": \"043f4ec6-7a3f-4dd3-bf2a-f78f87a46b13\",\n",
      "    \"SecretString\": \"{password:changed}\",\n",
      "    \"VersionStages\": [\n",
      "        \"AWSCURRENT\"\n",
      "    ],\n",
      "    \"CreatedDate\": \"2020-12-07T10:24:47.663000+09:00\"\n",
      "}\n"
     ]
    }
   ],
   "source": [
    "!aws secretsmanager get-secret-value --secret-id /mysql/demo --version-id 043f4ec6-7a3f-4dd3-bf2a-f78f87a46b13"
   ]
  }
 ],
 "metadata": {
  "kernelspec": {
   "display_name": "Python 3",
   "language": "python",
   "name": "python3"
  },
  "language_info": {
   "codemirror_mode": {
    "name": "ipython",
    "version": 3
   },
   "file_extension": ".py",
   "mimetype": "text/x-python",
   "name": "python",
   "nbconvert_exporter": "python",
   "pygments_lexer": "ipython3",
   "version": "3.8.6"
  }
 },
 "nbformat": 4,
 "nbformat_minor": 4
}
