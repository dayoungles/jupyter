{
 "cells": [
  {
   "cell_type": "code",
   "execution_count": null,
   "metadata": {},
   "outputs": [],
   "source": []
  },
  {
   "cell_type": "markdown",
   "metadata": {},
   "source": [
    "# Systems Manager"
   ]
  },
  {
   "cell_type": "markdown",
   "metadata": {},
   "source": [
    "## Parameter store"
   ]
  },
  {
   "cell_type": "markdown",
   "metadata": {},
   "source": [
    "## GET"
   ]
  },
  {
   "cell_type": "code",
   "execution_count": 28,
   "metadata": {},
   "outputs": [
    {
     "name": "stdout",
     "output_type": "stream",
     "text": [
      "{\n",
      "    \"Parameter\": {\n",
      "        \"Name\": \"/mysql/demo/url\",\n",
      "        \"Type\": \"String\",\n",
      "        \"Value\": \"http://127.0.0.1:3306/demo\",\n",
      "        \"Version\": 2,\n",
      "        \"LastModifiedDate\": \"2020-12-07T10:30:33.538000+09:00\",\n",
      "        \"ARN\": \"arn:aws:ssm:ap-northeast-2:197159823036:parameter/mysql/demo/url\",\n",
      "        \"DataType\": \"text\"\n",
      "    }\n",
      "}\n"
     ]
    }
   ],
   "source": [
    "!aws ssm get-parameter --name /mysql/demo/url"
   ]
  },
  {
   "cell_type": "markdown",
   "metadata": {},
   "source": [
    "## PUT "
   ]
  },
  {
   "cell_type": "code",
   "execution_count": 27,
   "metadata": {},
   "outputs": [
    {
     "name": "stdout",
     "output_type": "stream",
     "text": [
      "{\n",
      "    \"Version\": 2,\n",
      "    \"Tier\": \"Standard\"\n",
      "}\n"
     ]
    }
   ],
   "source": [
    "!aws ssm put-parameter --name /mysql/demo/url --value \"http://127.0.0.1:3306/demo\" --overwrite"
   ]
  }
 ],
 "metadata": {
  "kernelspec": {
   "display_name": "Python 3",
   "language": "python",
   "name": "python3"
  },
  "language_info": {
   "codemirror_mode": {
    "name": "ipython",
    "version": 3
   },
   "file_extension": ".py",
   "mimetype": "text/x-python",
   "name": "python",
   "nbconvert_exporter": "python",
   "pygments_lexer": "ipython3",
   "version": "3.8.6"
  }
 },
 "nbformat": 4,
 "nbformat_minor": 4
}
